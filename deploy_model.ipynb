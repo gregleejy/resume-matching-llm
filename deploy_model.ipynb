{
  "cells": [
    {
      "cell_type": "code",
      "execution_count": 3,
      "metadata": {
        "colab": {
          "base_uri": "https://localhost:8080/",
          "height": 677
        },
        "id": "exvshN6uumkn",
        "outputId": "90a5b0f9-e686-4394-f2f8-eeb5ee702335"
      },
      "outputs": [
        {
          "output_type": "stream",
          "name": "stdout",
          "text": [
            "Drive already mounted at /content/drive; to attempt to forcibly remount, call drive.mount(\"/content/drive\", force_remount=True).\n"
          ]
        },
        {
          "output_type": "stream",
          "name": "stderr",
          "text": [
            "/usr/local/lib/python3.11/dist-packages/transformers/models/bart/configuration_bart.py:176: UserWarning: Please make sure the config includes `forced_bos_token_id=0` in future versions. The config can simply be saved and uploaded again to be fixed.\n",
            "  warnings.warn(\n"
          ]
        },
        {
          "output_type": "stream",
          "name": "stdout",
          "text": [
            "✅ Loaded 2277 job embeddings\n",
            "Colab notebook detected. To show errors in colab notebook, set debug=True in launch()\n",
            "* Running on public URL: https://2c98b29f464799c0a8.gradio.live\n",
            "\n",
            "This share link expires in 72 hours. For free permanent hosting and GPU upgrades, run `gradio deploy` from the terminal in the working directory to deploy to Hugging Face Spaces (https://huggingface.co/spaces)\n"
          ]
        },
        {
          "output_type": "display_data",
          "data": {
            "text/plain": [
              "<IPython.core.display.HTML object>"
            ],
            "text/html": [
              "<div><iframe src=\"https://2c98b29f464799c0a8.gradio.live\" width=\"100%\" height=\"500\" allow=\"autoplay; camera; microphone; clipboard-read; clipboard-write;\" frameborder=\"0\" allowfullscreen></iframe></div>"
            ]
          },
          "metadata": {}
        },
        {
          "output_type": "execute_result",
          "data": {
            "text/plain": []
          },
          "metadata": {},
          "execution_count": 3
        }
      ],
      "source": [
        "# ✅ Mount Google Drive\n",
        "from google.colab import drive\n",
        "drive.mount('/content/drive')\n",
        "\n",
        "# ✅ Load Required Libraries\n",
        "import torch\n",
        "from transformers import AutoModelForSeq2SeqLM, AutoTokenizer\n",
        "import pandas as pd\n",
        "from sentence_transformers import SentenceTransformer, util\n",
        "import gradio as gr\n",
        "\n",
        "# ✅ Define Paths (Ensure the user has these in their Drive)\n",
        "model_path = \"/content/drive/My Drive/trained_resume_model\"\n",
        "datasets_path = \"/content/drive/My Drive/datasets/job_description.csv\"\n",
        "\n",
        "# ✅ Load Trained Model & Tokenizer\n",
        "device = \"cuda\" if torch.cuda.is_available() else \"cpu\"\n",
        "model = AutoModelForSeq2SeqLM.from_pretrained(model_path).to(device)\n",
        "tokenizer = AutoTokenizer.from_pretrained(model_path)\n",
        "\n",
        "# ✅ Load Job Descriptions\n",
        "df_jobs = pd.read_csv(datasets_path)\n",
        "\n",
        "# ✅ Load Sentence Transformer for Job Matching\n",
        "embedding_model = SentenceTransformer(\"all-MiniLM-L6-v2\")\n",
        "job_texts = df_jobs[\"Job Description\"].tolist()\n",
        "job_embeddings = embedding_model.encode(job_texts, convert_to_tensor=True)\n",
        "print(f\"✅ Loaded {len(job_embeddings)} job embeddings\")\n",
        "\n",
        "# ✅ Define Job Matching Function\n",
        "\n",
        "def find_best_match(resume_text):\n",
        "    resume_embedding = embedding_model.encode(resume_text, convert_to_tensor=True)\n",
        "    similarity_scores = util.pytorch_cos_sim(resume_embedding, job_embeddings)\n",
        "    best_match_idx = torch.argmax(similarity_scores).item()\n",
        "    return df_jobs.iloc[best_match_idx][\"Job Title\"], df_jobs.iloc[best_match_idx][\"Job Description\"]\n",
        "\n",
        "# ✅ Define Resume Processing Function\n",
        "\n",
        "def summarize_resume(resume_text):\n",
        "    \"\"\"Extracts key skills and experiences from a resume using the trained model.\"\"\"\n",
        "    input_text = f\"Resume: {resume_text}\\n\"\n",
        "    input_ids = tokenizer(input_text, return_tensors=\"pt\", max_length=1024, truncation=True).input_ids.to(device)\n",
        "    output_ids = model.generate(\n",
        "        input_ids,\n",
        "        max_length=350,\n",
        "        temperature=0.82,\n",
        "        top_k=40,\n",
        "        top_p=0.9,\n",
        "        do_sample=True\n",
        "    )\n",
        "    summary = tokenizer.decode(output_ids[0], skip_special_tokens=True)\n",
        "    return summary\n",
        "\n",
        "# ✅ Define Gradio Interface\n",
        "def resume_evaluator(resume_text):\n",
        "    matched_job, matched_description = find_best_match(resume_text)\n",
        "    feedback = summarize_resume(resume_text)\n",
        "    return matched_job, feedback\n",
        "\n",
        "iface = gr.Interface(\n",
        "    fn=resume_evaluator,\n",
        "    inputs=gr.Textbox(label=\"Paste Your Resume\"),\n",
        "    outputs=[\n",
        "        gr.Textbox(label=\"Best Matched Tech Job\"),\n",
        "        gr.Textbox(label=\"Resume Summary\")\n",
        "    ],\n",
        "    title=\"AI Resume Evaluator\",\n",
        "    description=\"Upload your resume and get AI-powered feedback!\"\n",
        ")\n",
        "\n",
        "# ✅ Launch Gradio App\n",
        "iface.launch(share=True)"
      ]
    }
  ],
  "metadata": {
    "colab": {
      "provenance": [],
      "gpuType": "T4"
    },
    "kernelspec": {
      "display_name": "Python 3",
      "name": "python3"
    },
    "language_info": {
      "name": "python"
    },
    "accelerator": "GPU"
  },
  "nbformat": 4,
  "nbformat_minor": 0
}